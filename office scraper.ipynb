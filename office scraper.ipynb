{
 "cells": [
  {
   "cell_type": "code",
   "execution_count": 1,
   "metadata": {},
   "outputs": [],
   "source": [
    "from bs4 import BeautifulSoup\n",
    "import requests\n",
    "import pandas as pd\n",
    "import re"
   ]
  },
  {
   "cell_type": "code",
   "execution_count": 10,
   "metadata": {},
   "outputs": [],
   "source": [
    "base = 'http://officequotes.net/'"
   ]
  },
  {
   "cell_type": "code",
   "execution_count": 11,
   "metadata": {},
   "outputs": [],
   "source": [
    "r = requests.get(base)"
   ]
  },
  {
   "cell_type": "code",
   "execution_count": 12,
   "metadata": {},
   "outputs": [],
   "source": [
    "soup = BeautifulSoup(r.content, 'html.parser')"
   ]
  },
  {
   "cell_type": "code",
   "execution_count": 13,
   "metadata": {},
   "outputs": [],
   "source": [
    "all_links = [link.get('href') for link in soup.find_all('a')]"
   ]
  },
  {
   "cell_type": "code",
   "execution_count": 14,
   "metadata": {},
   "outputs": [],
   "source": [
    "episode_links = all_links[8:-9]"
   ]
  },
  {
   "cell_type": "code",
   "execution_count": 15,
   "metadata": {},
   "outputs": [
    {
     "data": {
      "text/plain": [
       "186"
      ]
     },
     "execution_count": 15,
     "metadata": {},
     "output_type": "execute_result"
    }
   ],
   "source": [
    "len(episode_links)"
   ]
  },
  {
   "cell_type": "markdown",
   "metadata": {},
   "source": [
    "# Scraping officequotes.net"
   ]
  },
  {
   "cell_type": "code",
   "execution_count": 65,
   "metadata": {},
   "outputs": [
    {
     "name": "stderr",
     "output_type": "stream",
     "text": [
      "Some characters could not be decoded, and were replaced with REPLACEMENT CHARACTER.\n",
      "Some characters could not be decoded, and were replaced with REPLACEMENT CHARACTER.\n",
      "Some characters could not be decoded, and were replaced with REPLACEMENT CHARACTER.\n",
      "Some characters could not be decoded, and were replaced with REPLACEMENT CHARACTER.\n",
      "Some characters could not be decoded, and were replaced with REPLACEMENT CHARACTER.\n",
      "Some characters could not be decoded, and were replaced with REPLACEMENT CHARACTER.\n",
      "Some characters could not be decoded, and were replaced with REPLACEMENT CHARACTER.\n",
      "Some characters could not be decoded, and were replaced with REPLACEMENT CHARACTER.\n",
      "Some characters could not be decoded, and were replaced with REPLACEMENT CHARACTER.\n",
      "Some characters could not be decoded, and were replaced with REPLACEMENT CHARACTER.\n",
      "Some characters could not be decoded, and were replaced with REPLACEMENT CHARACTER.\n",
      "Some characters could not be decoded, and were replaced with REPLACEMENT CHARACTER.\n",
      "Some characters could not be decoded, and were replaced with REPLACEMENT CHARACTER.\n",
      "Some characters could not be decoded, and were replaced with REPLACEMENT CHARACTER.\n",
      "Some characters could not be decoded, and were replaced with REPLACEMENT CHARACTER.\n",
      "Some characters could not be decoded, and were replaced with REPLACEMENT CHARACTER.\n",
      "Some characters could not be decoded, and were replaced with REPLACEMENT CHARACTER.\n",
      "Some characters could not be decoded, and were replaced with REPLACEMENT CHARACTER.\n",
      "Some characters could not be decoded, and were replaced with REPLACEMENT CHARACTER.\n",
      "Some characters could not be decoded, and were replaced with REPLACEMENT CHARACTER.\n",
      "Some characters could not be decoded, and were replaced with REPLACEMENT CHARACTER.\n",
      "Some characters could not be decoded, and were replaced with REPLACEMENT CHARACTER.\n",
      "Some characters could not be decoded, and were replaced with REPLACEMENT CHARACTER.\n",
      "Some characters could not be decoded, and were replaced with REPLACEMENT CHARACTER.\n",
      "Some characters could not be decoded, and were replaced with REPLACEMENT CHARACTER.\n",
      "Some characters could not be decoded, and were replaced with REPLACEMENT CHARACTER.\n",
      "Some characters could not be decoded, and were replaced with REPLACEMENT CHARACTER.\n",
      "Some characters could not be decoded, and were replaced with REPLACEMENT CHARACTER.\n",
      "Some characters could not be decoded, and were replaced with REPLACEMENT CHARACTER.\n",
      "Some characters could not be decoded, and were replaced with REPLACEMENT CHARACTER.\n"
     ]
    }
   ],
   "source": [
    "lines = []\n",
    "chars = []\n",
    "eps = []\n",
    "for i in episode_links:\n",
    "    ep_lines = []\n",
    "    ep_characters = []\n",
    "    ep_name = []\n",
    "    url = base + i\n",
    "    r = requests.get(url)\n",
    "    soup = BeautifulSoup(r.content, 'html.parser')\n",
    "    quotes = soup.findAll(\"div\", {\"class\" : \"quote\"})\n",
    "    for quote in quotes:\n",
    "        for br in quote.findAll('br'):\n",
    "            ep_lines.append(br.previous_sibling)\n",
    "        for b in quote.findAll('b'):\n",
    "            if not b.findAll('u'):\n",
    "                ep_characters.append(b.string)\n",
    "                ep_name.append(i)\n",
    "    lines.append(ep_lines)\n",
    "    chars.append(ep_characters)\n",
    "    eps.append(ep_name)\n",
    "    \n",
    "  "
   ]
  },
  {
   "cell_type": "code",
   "execution_count": 44,
   "metadata": {},
   "outputs": [
    {
     "data": {
      "text/plain": [
       "(186, 186, 186)"
      ]
     },
     "execution_count": 44,
     "metadata": {},
     "output_type": "execute_result"
    }
   ],
   "source": [
    "len(lines), len(chars), len(eps)"
   ]
  },
  {
   "cell_type": "code",
   "execution_count": 66,
   "metadata": {},
   "outputs": [],
   "source": [
    "good_idx = []\n",
    "for e, i in enumerate(lines):\n",
    "    if len(lines[e]) == len(chars[e]):\n",
    "        good_idx.append(e)"
   ]
  },
  {
   "cell_type": "code",
   "execution_count": 46,
   "metadata": {},
   "outputs": [
    {
     "data": {
      "text/plain": [
       "63"
      ]
     },
     "execution_count": 46,
     "metadata": {},
     "output_type": "execute_result"
    }
   ],
   "source": [
    "len(good_idx)"
   ]
  },
  {
   "cell_type": "code",
   "execution_count": 67,
   "metadata": {},
   "outputs": [],
   "source": [
    "lines_good = []\n",
    "chars_good = []\n",
    "eps_good = []\n",
    "for i in good_idx:\n",
    "    lines_good.append(lines[i])\n",
    "    chars_good.append(chars[i])\n",
    "    eps_good.append(eps[i])\n",
    "    "
   ]
  },
  {
   "cell_type": "code",
   "execution_count": 59,
   "metadata": {},
   "outputs": [
    {
     "data": {
      "text/plain": [
       "(63, 63, 63)"
      ]
     },
     "execution_count": 59,
     "metadata": {},
     "output_type": "execute_result"
    }
   ],
   "source": [
    "len(lines_good), len(chars_good), len(eps_good)"
   ]
  },
  {
   "cell_type": "code",
   "execution_count": 68,
   "metadata": {},
   "outputs": [],
   "source": [
    "flat_chars_good = [i for sub in chars_good for i in sub]\n",
    "flat_lines_good = [i for sub in lines_good for i in sub]\n",
    "flat_eps_good = [i for sub in eps_good for i in sub]"
   ]
  },
  {
   "cell_type": "code",
   "execution_count": 69,
   "metadata": {},
   "outputs": [
    {
     "data": {
      "text/plain": [
       "(20905, 20905, 20905)"
      ]
     },
     "execution_count": 69,
     "metadata": {},
     "output_type": "execute_result"
    }
   ],
   "source": [
    "len(flat_chars_good), len(flat_lines_good), len(flat_eps_good)"
   ]
  },
  {
   "cell_type": "code",
   "execution_count": 70,
   "metadata": {},
   "outputs": [],
   "source": [
    "df = pd.DataFrame(list(zip(flat_chars_good, flat_lines_good, flat_eps_good)), columns = ['character', 'line', 'episode'])"
   ]
  },
  {
   "cell_type": "code",
   "execution_count": 74,
   "metadata": {},
   "outputs": [],
   "source": [
    "df.to_csv('office_quotes_raw.csv', index=False)"
   ]
  },
  {
   "cell_type": "code",
   "execution_count": 82,
   "metadata": {},
   "outputs": [
    {
     "data": {
      "text/plain": [
       "array(['no1-03.php', 'no1-04.php', 'no2-03.php', 'no2-05.php',\n",
       "       'no2-10.php', 'no2-11.php', 'no2-13.php', 'no2-14.php',\n",
       "       'no2-15.php', 'no2-16.php', 'no2-17.php', 'no2-18.php',\n",
       "       'no2-19.php', 'no2-21.php', 'no2-22.php', 'no3-06.php',\n",
       "       'no3-07.php', 'no3-09.php', 'no3-10.php', 'no3-11.php',\n",
       "       'no3-12.php', 'no3-14.php', 'no3-15.php', 'no3-17.php',\n",
       "       'no3-18.php', 'no3-22.php', 'no3-23.php', 'no4-02.php',\n",
       "       'no4-03.php', 'no4-04.php', 'no4-10.php', 'no4-11.php',\n",
       "       'no5-02.php', 'no5-04.php', 'no5-05.php', 'no5-10.php',\n",
       "       'no5-13.php', 'no5-14.php', 'no5-15.php', 'no5-16.php',\n",
       "       'no5-17.php', 'no5-23.php', 'no5-24.php', 'no5-25.php',\n",
       "       'no6-03.php', 'no6-04.php', 'no6-06.php', 'no6-07.php',\n",
       "       'no6-08.php', 'no6-09.php', 'no6-10.php', 'no6-12.php',\n",
       "       'no6-20.php', 'no6-22.php', 'no7-02.php', 'no7-04.php',\n",
       "       'no7-05.php', 'no7-06.php', 'no7-07.php', 'no7-08.php',\n",
       "       'no7-10.php', 'no7-12.php', 'no7-18.php'], dtype=object)"
      ]
     },
     "execution_count": 82,
     "metadata": {},
     "output_type": "execute_result"
    }
   ],
   "source": [
    "df['episode'].unique()"
   ]
  },
  {
   "cell_type": "code",
   "execution_count": 89,
   "metadata": {},
   "outputs": [],
   "source": [
    "last_line = []\n",
    "episode = []\n",
    "char = []\n",
    "for i in df['episode'].unique():\n",
    "    last_line.append(df[df['episode']==i]['line'].values[-1])\n",
    "    char.append(df[df['episode']==i]['character'].values[-1])\n",
    "    episode.append(df[df['episode']==i]['episode'].values[-1])\n",
    "    \n",
    "df_check = pd.DataFrame(list(zip(char, last_line, episode)), columns = ['char', 'last_line', 'episode'])"
   ]
  },
  {
   "cell_type": "code",
   "execution_count": 91,
   "metadata": {},
   "outputs": [],
   "source": [
    "df_check.to_csv('spotcheck.csv', index=False)"
   ]
  },
  {
   "cell_type": "code",
   "execution_count": 2,
   "metadata": {},
   "outputs": [],
   "source": [
    "df = pd.read_csv('office_quotes_raw.csv')\n",
    "df['character'] = df['character'].str.replace('[^a-zA-Z]', '')\n",
    "df['line'] = df['line'].str.replace('\\[.*?\\]', '')"
   ]
  },
  {
   "cell_type": "code",
   "execution_count": 3,
   "metadata": {},
   "outputs": [
    {
     "data": {
      "text/html": [
       "<div>\n",
       "<style scoped>\n",
       "    .dataframe tbody tr th:only-of-type {\n",
       "        vertical-align: middle;\n",
       "    }\n",
       "\n",
       "    .dataframe tbody tr th {\n",
       "        vertical-align: top;\n",
       "    }\n",
       "\n",
       "    .dataframe thead th {\n",
       "        text-align: right;\n",
       "    }\n",
       "</style>\n",
       "<table border=\"1\" class=\"dataframe\">\n",
       "  <thead>\n",
       "    <tr style=\"text-align: right;\">\n",
       "      <th></th>\n",
       "      <th>character</th>\n",
       "      <th>line</th>\n",
       "      <th>episode</th>\n",
       "    </tr>\n",
       "  </thead>\n",
       "  <tbody>\n",
       "    <tr>\n",
       "      <th>0</th>\n",
       "      <td>Michael</td>\n",
       "      <td>Pam. Pamela. Pam-elama-ding-dong. Making copies.</td>\n",
       "      <td>no1-03.php</td>\n",
       "    </tr>\n",
       "    <tr>\n",
       "      <th>1</th>\n",
       "      <td>Pam</td>\n",
       "      <td>I'm not making any copies.</td>\n",
       "      <td>no1-03.php</td>\n",
       "    </tr>\n",
       "    <tr>\n",
       "      <th>2</th>\n",
       "      <td>Michael</td>\n",
       "      <td>Let's go. Messages. Stat. Lots to do, lots to...</td>\n",
       "      <td>no1-03.php</td>\n",
       "    </tr>\n",
       "    <tr>\n",
       "      <th>3</th>\n",
       "      <td>Pam</td>\n",
       "      <td>Nothing new.</td>\n",
       "      <td>no1-03.php</td>\n",
       "    </tr>\n",
       "    <tr>\n",
       "      <th>4</th>\n",
       "      <td>Michael</td>\n",
       "      <td>Lay them on me. What?</td>\n",
       "      <td>no1-03.php</td>\n",
       "    </tr>\n",
       "  </tbody>\n",
       "</table>\n",
       "</div>"
      ],
      "text/plain": [
       "  character                                               line     episode\n",
       "0   Michael   Pam. Pamela. Pam-elama-ding-dong. Making copies.  no1-03.php\n",
       "1       Pam                         I'm not making any copies.  no1-03.php\n",
       "2   Michael   Let's go. Messages. Stat. Lots to do, lots to...  no1-03.php\n",
       "3       Pam                                       Nothing new.  no1-03.php\n",
       "4   Michael                              Lay them on me. What?  no1-03.php"
      ]
     },
     "execution_count": 3,
     "metadata": {},
     "output_type": "execute_result"
    }
   ],
   "source": [
    "df.head()"
   ]
  }
 ],
 "metadata": {
  "kernelspec": {
   "display_name": "Python 3",
   "language": "python",
   "name": "python3"
  },
  "language_info": {
   "codemirror_mode": {
    "name": "ipython",
    "version": 3
   },
   "file_extension": ".py",
   "mimetype": "text/x-python",
   "name": "python",
   "nbconvert_exporter": "python",
   "pygments_lexer": "ipython3",
   "version": "3.7.3"
  }
 },
 "nbformat": 4,
 "nbformat_minor": 2
}
